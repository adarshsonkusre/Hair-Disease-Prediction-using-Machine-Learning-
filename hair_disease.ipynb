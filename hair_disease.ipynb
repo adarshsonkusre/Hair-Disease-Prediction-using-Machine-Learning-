{
 "cells": [
  {
   "cell_type": "code",
   "execution_count": 1,
   "id": "30f941b2",
   "metadata": {
    "execution": {
     "iopub.execute_input": "2022-05-21T04:14:47.181678Z",
     "iopub.status.busy": "2022-05-21T04:14:47.181222Z",
     "iopub.status.idle": "2022-05-21T04:14:52.304032Z",
     "shell.execute_reply": "2022-05-21T04:14:52.303238Z"
    },
    "papermill": {
     "duration": 5.149021,
     "end_time": "2022-05-21T04:14:52.306439",
     "exception": false,
     "start_time": "2022-05-21T04:14:47.157418",
     "status": "completed"
    },
    "tags": []
   },
   "outputs": [],
   "source": [
    "from keras.layers import Input, Lambda, Dense, Flatten\n",
    "from keras.models import Model\n",
    "from keras.applications.vgg19 import VGG19\n",
    "from keras.applications.vgg19 import preprocess_input\n",
    "from keras.preprocessing import image\n",
    "from keras.preprocessing.image import ImageDataGenerator\n",
    "from keras.models import Sequential\n",
    "import numpy as np\n",
    "from glob import glob\n",
    "import matplotlib.pyplot as plt\n",
    "import tensorflow as tf\n"
   ]
  },
  {
   "cell_type": "code",
   "execution_count": 2,
   "id": "f32b56c0",
   "metadata": {
    "execution": {
     "iopub.execute_input": "2022-05-21T04:14:52.348572Z",
     "iopub.status.busy": "2022-05-21T04:14:52.347920Z",
     "iopub.status.idle": "2022-05-21T04:14:52.352077Z",
     "shell.execute_reply": "2022-05-21T04:14:52.351387Z"
    },
    "papermill": {
     "duration": 0.027111,
     "end_time": "2022-05-21T04:14:52.353873",
     "exception": false,
     "start_time": "2022-05-21T04:14:52.326762",
     "status": "completed"
    },
    "tags": []
   },
   "outputs": [],
   "source": [
    "IMAGE_SIZE = [224, 224]\n",
    "\n",
    "train_path = r'C:\\\\Users\\\\Adarsh\\\\Desktop\\\\Hair Diseas Hair Diseases - Final\\\\train'\n",
    "test_path = r'C:\\\\Users\\\\Adarsh\\\\Desktop\\\\Hair Diseas\\\\Hair Diseases - Final\\\\test'\n",
    "val_path = r'C:\\\\Users\\\\Adarsh\\\\Desktop\\\\Hair Diseas\\\\Hair Diseases - Final\\\\val'\n"
   ]
  },
  {
   "cell_type": "code",
   "execution_count": 3,
   "id": "cca770f2",
   "metadata": {
    "execution": {
     "iopub.execute_input": "2022-05-21T04:14:52.395516Z",
     "iopub.status.busy": "2022-05-21T04:14:52.393933Z",
     "iopub.status.idle": "2022-05-21T04:14:59.203015Z",
     "shell.execute_reply": "2022-05-21T04:14:59.202218Z"
    },
    "papermill": {
     "duration": 6.831934,
     "end_time": "2022-05-21T04:14:59.205352",
     "exception": false,
     "start_time": "2022-05-21T04:14:52.373418",
     "status": "completed"
    },
    "tags": []
   },
   "outputs": [
    {
     "name": "stderr",
     "output_type": "stream",
     "text": [
      "2022-05-21 04:14:52.497354: I tensorflow/stream_executor/cuda/cuda_gpu_executor.cc:937] successful NUMA node read from SysFS had negative value (-1), but there must be at least one NUMA node, so returning NUMA node zero\n",
      "2022-05-21 04:14:52.631711: I tensorflow/stream_executor/cuda/cuda_gpu_executor.cc:937] successful NUMA node read from SysFS had negative value (-1), but there must be at least one NUMA node, so returning NUMA node zero\n",
      "2022-05-21 04:14:52.632517: I tensorflow/stream_executor/cuda/cuda_gpu_executor.cc:937] successful NUMA node read from SysFS had negative value (-1), but there must be at least one NUMA node, so returning NUMA node zero\n",
      "2022-05-21 04:14:52.633686: I tensorflow/core/platform/cpu_feature_guard.cc:142] This TensorFlow binary is optimized with oneAPI Deep Neural Network Library (oneDNN) to use the following CPU instructions in performance-critical operations:  AVX2 AVX512F FMA\n",
      "To enable them in other operations, rebuild TensorFlow with the appropriate compiler flags.\n",
      "2022-05-21 04:14:52.638258: I tensorflow/stream_executor/cuda/cuda_gpu_executor.cc:937] successful NUMA node read from SysFS had negative value (-1), but there must be at least one NUMA node, so returning NUMA node zero\n",
      "2022-05-21 04:14:52.639014: I tensorflow/stream_executor/cuda/cuda_gpu_executor.cc:937] successful NUMA node read from SysFS had negative value (-1), but there must be at least one NUMA node, so returning NUMA node zero\n",
      "2022-05-21 04:14:52.639704: I tensorflow/stream_executor/cuda/cuda_gpu_executor.cc:937] successful NUMA node read from SysFS had negative value (-1), but there must be at least one NUMA node, so returning NUMA node zero\n",
      "2022-05-21 04:14:54.772823: I tensorflow/stream_executor/cuda/cuda_gpu_executor.cc:937] successful NUMA node read from SysFS had negative value (-1), but there must be at least one NUMA node, so returning NUMA node zero\n",
      "2022-05-21 04:14:54.773691: I tensorflow/stream_executor/cuda/cuda_gpu_executor.cc:937] successful NUMA node read from SysFS had negative value (-1), but there must be at least one NUMA node, so returning NUMA node zero\n",
      "2022-05-21 04:14:54.774325: I tensorflow/stream_executor/cuda/cuda_gpu_executor.cc:937] successful NUMA node read from SysFS had negative value (-1), but there must be at least one NUMA node, so returning NUMA node zero\n",
      "2022-05-21 04:14:54.775445: I tensorflow/core/common_runtime/gpu/gpu_device.cc:1510] Created device /job:localhost/replica:0/task:0/device:GPU:0 with 15403 MB memory:  -> device: 0, name: Tesla P100-PCIE-16GB, pci bus id: 0000:00:04.0, compute capability: 6.0\n"
     ]
    },
    {
     "name": "stdout",
     "output_type": "stream",
     "text": [
      "Downloading data from https://storage.googleapis.com/tensorflow/keras-applications/vgg19/vgg19_weights_tf_dim_ordering_tf_kernels_notop.h5\n",
      "80142336/80134624 [==============================] - 2s 0us/step\n",
      "80150528/80134624 [==============================] - 2s 0us/step\n"
     ]
    }
   ],
   "source": [
    "rn = VGG19(input_shape=IMAGE_SIZE + [3], weights='imagenet', include_top=False)"
   ]
  },
  {
   "cell_type": "code",
   "execution_count": 4,
   "id": "45927f09",
   "metadata": {
    "collapsed": true,
    "execution": {
     "iopub.execute_input": "2022-05-21T04:14:59.251609Z",
     "iopub.status.busy": "2022-05-21T04:14:59.250951Z",
     "iopub.status.idle": "2022-05-21T04:14:59.261770Z",
     "shell.execute_reply": "2022-05-21T04:14:59.260698Z"
    },
    "jupyter": {
     "outputs_hidden": true
    },
    "papermill": {
     "duration": 0.045808,
     "end_time": "2022-05-21T04:14:59.273881",
     "exception": false,
     "start_time": "2022-05-21T04:14:59.228073",
     "status": "completed"
    },
    "tags": []
   },
   "outputs": [
    {
     "name": "stderr",
     "output_type": "stream",
     "text": [
      "2022-05-21 04:14:59.253779: I tensorflow/stream_executor/cuda/cuda_gpu_executor.cc:937] successful NUMA node read from SysFS had negative value (-1), but there must be at least one NUMA node, so returning NUMA node zero\n",
      "2022-05-21 04:14:59.254558: I tensorflow/stream_executor/cuda/cuda_gpu_executor.cc:937] successful NUMA node read from SysFS had negative value (-1), but there must be at least one NUMA node, so returning NUMA node zero\n",
      "2022-05-21 04:14:59.254999: I tensorflow/stream_executor/cuda/cuda_gpu_executor.cc:937] successful NUMA node read from SysFS had negative value (-1), but there must be at least one NUMA node, so returning NUMA node zero\n",
      "2022-05-21 04:14:59.255421: I tensorflow/stream_executor/cuda/cuda_gpu_executor.cc:937] successful NUMA node read from SysFS had negative value (-1), but there must be at least one NUMA node, so returning NUMA node zero\n",
      "2022-05-21 04:14:59.255747: I tensorflow/stream_executor/cuda/cuda_gpu_executor.cc:937] successful NUMA node read from SysFS had negative value (-1), but there must be at least one NUMA node, so returning NUMA node zero\n",
      "2022-05-21 04:14:59.256003: I tensorflow/core/common_runtime/gpu/gpu_device.cc:1510] Created device /device:GPU:0 with 15403 MB memory:  -> device: 0, name: Tesla P100-PCIE-16GB, pci bus id: 0000:00:04.0, compute capability: 6.0\n"
     ]
    }
   ],
   "source": [
    "from tensorflow.python.client import device_lib\n",
    "\n",
    "def get_available_gpus():\n",
    "    local_device_protos = device_lib.list_local_devices()\n",
    "    return [x.name for x in local_device_protos]\n",
    "\n",
    "get_available_gpus()\n",
    "\n",
    "from tensorflow.python.client import device_lib"
   ]
  },
  {
   "cell_type": "code",
   "execution_count": 5,
   "id": "d97d9518",
   "metadata": {
    "execution": {
     "iopub.execute_input": "2022-05-21T04:14:59.327005Z",
     "iopub.status.busy": "2022-05-21T04:14:59.326758Z",
     "iopub.status.idle": "2022-05-21T04:14:59.336236Z",
     "shell.execute_reply": "2022-05-21T04:14:59.335604Z"
    },
    "papermill": {
     "duration": 0.034247,
     "end_time": "2022-05-21T04:14:59.337991",
     "exception": false,
     "start_time": "2022-05-21T04:14:59.303744",
     "status": "completed"
    },
    "tags": []
   },
   "outputs": [],
   "source": [
    "for layer in rn.layers:\n",
    "    layer.trainable = False\n",
    "    \n",
    "folders = glob(train_path+'\\*')"
   ]
  },
  {
   "cell_type": "code",
   "execution_count": 6,
   "id": "6663a527",
   "metadata": {
    "execution": {
     "iopub.execute_input": "2022-05-21T04:14:59.383627Z",
     "iopub.status.busy": "2022-05-21T04:14:59.383404Z",
     "iopub.status.idle": "2022-05-21T04:14:59.391811Z",
     "shell.execute_reply": "2022-05-21T04:14:59.391154Z"
    },
    "papermill": {
     "duration": 0.033565,
     "end_time": "2022-05-21T04:14:59.393617",
     "exception": false,
     "start_time": "2022-05-21T04:14:59.360052",
     "status": "completed"
    },
    "tags": []
   },
   "outputs": [],
   "source": [
    "x = Flatten()(rn.output)"
   ]
  },
  {
   "cell_type": "code",
   "execution_count": 7,
   "id": "5da22eea",
   "metadata": {
    "execution": {
     "iopub.execute_input": "2022-05-21T04:14:59.439034Z",
     "iopub.status.busy": "2022-05-21T04:14:59.438812Z",
     "iopub.status.idle": "2022-05-21T04:14:59.453192Z",
     "shell.execute_reply": "2022-05-21T04:14:59.452529Z"
    },
    "papermill": {
     "duration": 0.039013,
     "end_time": "2022-05-21T04:14:59.454895",
     "exception": false,
     "start_time": "2022-05-21T04:14:59.415882",
     "status": "completed"
    },
    "tags": []
   },
   "outputs": [],
   "source": [
    "prediction = Dense(10, activation='softmax')(x)\n",
    "model = Model(inputs=rn.input, outputs=prediction)"
   ]
  },
  {
   "cell_type": "code",
   "execution_count": 8,
   "id": "1514a980",
   "metadata": {
    "execution": {
     "iopub.execute_input": "2022-05-21T04:14:59.502687Z",
     "iopub.status.busy": "2022-05-21T04:14:59.501968Z",
     "iopub.status.idle": "2022-05-21T04:14:59.519811Z",
     "shell.execute_reply": "2022-05-21T04:14:59.517665Z"
    },
    "papermill": {
     "duration": 0.044167,
     "end_time": "2022-05-21T04:14:59.521917",
     "exception": false,
     "start_time": "2022-05-21T04:14:59.477750",
     "status": "completed"
    },
    "tags": []
   },
   "outputs": [
    {
     "name": "stdout",
     "output_type": "stream",
     "text": [
      "Model: \"model\"\n",
      "_________________________________________________________________\n",
      "Layer (type)                 Output Shape              Param #   \n",
      "=================================================================\n",
      "input_1 (InputLayer)         [(None, 224, 224, 3)]     0         \n",
      "_________________________________________________________________\n",
      "block1_conv1 (Conv2D)        (None, 224, 224, 64)      1792      \n",
      "_________________________________________________________________\n",
      "block1_conv2 (Conv2D)        (None, 224, 224, 64)      36928     \n",
      "_________________________________________________________________\n",
      "block1_pool (MaxPooling2D)   (None, 112, 112, 64)      0         \n",
      "_________________________________________________________________\n",
      "block2_conv1 (Conv2D)        (None, 112, 112, 128)     73856     \n",
      "_________________________________________________________________\n",
      "block2_conv2 (Conv2D)        (None, 112, 112, 128)     147584    \n",
      "_________________________________________________________________\n",
      "block2_pool (MaxPooling2D)   (None, 56, 56, 128)       0         \n",
      "_________________________________________________________________\n",
      "block3_conv1 (Conv2D)        (None, 56, 56, 256)       295168    \n",
      "_________________________________________________________________\n",
      "block3_conv2 (Conv2D)        (None, 56, 56, 256)       590080    \n",
      "_________________________________________________________________\n",
      "block3_conv3 (Conv2D)        (None, 56, 56, 256)       590080    \n",
      "_________________________________________________________________\n",
      "block3_conv4 (Conv2D)        (None, 56, 56, 256)       590080    \n",
      "_________________________________________________________________\n",
      "block3_pool (MaxPooling2D)   (None, 28, 28, 256)       0         \n",
      "_________________________________________________________________\n",
      "block4_conv1 (Conv2D)        (None, 28, 28, 512)       1180160   \n",
      "_________________________________________________________________\n",
      "block4_conv2 (Conv2D)        (None, 28, 28, 512)       2359808   \n",
      "_________________________________________________________________\n",
      "block4_conv3 (Conv2D)        (None, 28, 28, 512)       2359808   \n",
      "_________________________________________________________________\n",
      "block4_conv4 (Conv2D)        (None, 28, 28, 512)       2359808   \n",
      "_________________________________________________________________\n",
      "block4_pool (MaxPooling2D)   (None, 14, 14, 512)       0         \n",
      "_________________________________________________________________\n",
      "block5_conv1 (Conv2D)        (None, 14, 14, 512)       2359808   \n",
      "_________________________________________________________________\n",
      "block5_conv2 (Conv2D)        (None, 14, 14, 512)       2359808   \n",
      "_________________________________________________________________\n",
      "block5_conv3 (Conv2D)        (None, 14, 14, 512)       2359808   \n",
      "_________________________________________________________________\n",
      "block5_conv4 (Conv2D)        (None, 14, 14, 512)       2359808   \n",
      "_________________________________________________________________\n",
      "block5_pool (MaxPooling2D)   (None, 7, 7, 512)         0         \n",
      "_________________________________________________________________\n",
      "flatten (Flatten)            (None, 25088)             0         \n",
      "_________________________________________________________________\n",
      "dense (Dense)                (None, 10)                250890    \n",
      "=================================================================\n",
      "Total params: 20,275,274\n",
      "Trainable params: 250,890\n",
      "Non-trainable params: 20,024,384\n",
      "_________________________________________________________________\n"
     ]
    }
   ],
   "source": [
    "model.summary()"
   ]
  },
  {
   "cell_type": "code",
   "execution_count": 9,
   "id": "6eada1f8",
   "metadata": {
    "execution": {
     "iopub.execute_input": "2022-05-21T04:14:59.573698Z",
     "iopub.status.busy": "2022-05-21T04:14:59.573135Z",
     "iopub.status.idle": "2022-05-21T04:15:03.470573Z",
     "shell.execute_reply": "2022-05-21T04:15:03.469859Z"
    },
    "papermill": {
     "duration": 3.92577,
     "end_time": "2022-05-21T04:15:03.472859",
     "exception": false,
     "start_time": "2022-05-21T04:14:59.547089",
     "status": "completed"
    },
    "tags": []
   },
   "outputs": [
    {
     "name": "stdout",
     "output_type": "stream",
     "text": [
      "Found 9600 images belonging to 10 classes.\n",
      "Found 1200 images belonging to 10 classes.\n",
      "Found 1200 images belonging to 10 classes.\n"
     ]
    }
   ],
   "source": [
    "train_datagen = ImageDataGenerator(rescale = 1./255)\n",
    "test_datagen = ImageDataGenerator(rescale = 1./255)\n",
    "val_datagen = ImageDataGenerator(rescale = 1./255)\n",
    "\n",
    "training_set = train_datagen.flow_from_directory(directory=train_path,\n",
    "                target_size = (224,224),\n",
    "                batch_size = 64,\n",
    "                class_mode = 'categorical')\n",
    "test_set = test_datagen.flow_from_directory(directory=test_path,\n",
    "                target_size = (224,224),\n",
    "                batch_size = 64,\n",
    "                class_mode = 'categorical', shuffle=False)\n",
    "val_set = val_datagen.flow_from_directory(directory=val_path,\n",
    "                target_size = (224,224),\n",
    "                batch_size = 64,\n",
    "                class_mode = 'categorical', shuffle=False)"
   ]
  },
  {
   "cell_type": "code",
   "execution_count": 10,
   "id": "e074d1bc",
   "metadata": {
    "execution": {
     "iopub.execute_input": "2022-05-21T04:15:03.522635Z",
     "iopub.status.busy": "2022-05-21T04:15:03.521947Z",
     "iopub.status.idle": "2022-05-21T04:15:03.536567Z",
     "shell.execute_reply": "2022-05-21T04:15:03.535894Z"
    },
    "papermill": {
     "duration": 0.041056,
     "end_time": "2022-05-21T04:15:03.538227",
     "exception": false,
     "start_time": "2022-05-21T04:15:03.497171",
     "status": "completed"
    },
    "tags": []
   },
   "outputs": [],
   "source": [
    "import keras\n",
    "import tensorflow as tf\n",
    "opt = tf.keras.optimizers.Adam(learning_rate=0.001)\n",
    "\n",
    "model.compile(\n",
    "  loss='categorical_crossentropy',\n",
    "  optimizer=opt,\n",
    "  metrics=[\"acc\"]\n",
    ")"
   ]
  },
  {
   "cell_type": "code",
   "execution_count": 12,
   "id": "cfbb6ff9",
   "metadata": {
    "execution": {
     "iopub.execute_input": "2022-05-21T04:15:03.644291Z",
     "iopub.status.busy": "2022-05-21T04:15:03.643559Z",
     "iopub.status.idle": "2022-05-21T04:15:03.648917Z",
     "shell.execute_reply": "2022-05-21T04:15:03.648255Z"
    },
    "papermill": {
     "duration": 0.032385,
     "end_time": "2022-05-21T04:15:03.650684",
     "exception": false,
     "start_time": "2022-05-21T04:15:03.618299",
     "status": "completed"
    },
    "tags": []
   },
   "outputs": [],
   "source": [
    "import keras\n",
    "import tensorflow as tf\n",
    "from keras.callbacks import ModelCheckpoint, ReduceLROnPlateau\n",
    "\n",
    "annealer = ReduceLROnPlateau(monitor='accuracy', factor=0.5, patience=5, verbose=1, min_lr=1e-4)\n",
    "checkpoint = ModelCheckpoint('/temp/{epoch}_VGG19.h5', verbose=1, save_best_only=False, mode='auto', save_freq='epoch')\n",
    "\n",
    "def inverse_distance_weighted_kernel(X, Y, p=1):\n",
    "    dist = np.sum(X**2, axis=1).reshape(-1, 1) + np.sum(Y**2, axis=1) - 2*np.dot(X, Y.T)\n",
    "    kernel = 1 / (1 + np.power(dist, p))\n",
    "    return kernel\n",
    "\n",
    "svm = SVC(kernel=inverse_distance_weighted_kernel)\n",
    "svm.fit(X_train, y_train)\n",
    "y_pred = svm.predict(X_test)\n",
    "\n",
    "\n"
   ]
  },
  {
   "cell_type": "code",
   "execution_count": 13,
   "id": "135fd388",
   "metadata": {
    "execution": {
     "iopub.execute_input": "2022-05-21T04:15:03.700569Z",
     "iopub.status.busy": "2022-05-21T04:15:03.700308Z",
     "iopub.status.idle": "2022-05-21T04:42:13.170792Z",
     "shell.execute_reply": "2022-05-21T04:42:13.168978Z"
    },
    "papermill": {
     "duration": 1629.498375,
     "end_time": "2022-05-21T04:42:13.173398",
     "exception": false,
     "start_time": "2022-05-21T04:15:03.675023",
     "status": "completed"
    },
    "tags": []
   },
   "outputs": [
    {
     "name": "stderr",
     "output_type": "stream",
     "text": [
      "2022-05-21 04:15:04.380836: I tensorflow/compiler/mlir/mlir_graph_optimization_pass.cc:185] None of the MLIR Optimization Passes are enabled (registered 2)\n"
     ]
    },
    {
     "name": "stdout",
     "output_type": "stream",
     "text": [
      "Epoch 1/20\n"
     ]
    },
    {
     "name": "stderr",
     "output_type": "stream",
     "text": [
      "2022-05-21 04:15:06.536461: I tensorflow/stream_executor/cuda/cuda_dnn.cc:369] Loaded cuDNN version 8005\n"
     ]
    },
    {
     "name": "stdout",
     "output_type": "stream",
     "text": [
      "150/150 [==============================] - 116s 692ms/step - loss: 1.0295 - acc: 0.7017 - val_loss: 0.5544 - val_acc: 0.8083\n",
      "\n",
      "Epoch 00001: saving model to /temp/1_VGG19.h5\n",
      "Epoch 2/20\n",
      "150/150 [==============================] - 79s 529ms/step - loss: 0.2711 - acc: 0.9458 - val_loss: 0.2580 - val_acc: 0.9475\n",
      "\n",
      "Epoch 00002: saving model to /temp/2_VGG19.h5\n",
      "Epoch 3/20\n",
      "150/150 [==============================] - 79s 526ms/step - loss: 0.1352 - acc: 0.9827 - val_loss: 0.1742 - val_acc: 0.9692\n",
      "\n",
      "Epoch 00003: saving model to /temp/3_VGG19.h5\n",
      "Epoch 4/20\n",
      "150/150 [==============================] - 79s 528ms/step - loss: 0.0885 - acc: 0.9901 - val_loss: 0.1329 - val_acc: 0.9742\n",
      "\n",
      "Epoch 00004: saving model to /temp/4_VGG19.h5\n",
      "Epoch 5/20\n",
      "150/150 [==============================] - 78s 520ms/step - loss: 0.0595 - acc: 0.9954 - val_loss: 0.1313 - val_acc: 0.9650\n",
      "\n",
      "Epoch 00005: saving model to /temp/5_VGG19.h5\n",
      "Epoch 6/20\n",
      "150/150 [==============================] - 79s 523ms/step - loss: 0.0452 - acc: 0.9968 - val_loss: 0.0957 - val_acc: 0.9800\n",
      "\n",
      "Epoch 00006: saving model to /temp/6_VGG19.h5\n",
      "Epoch 7/20\n",
      "150/150 [==============================] - 79s 525ms/step - loss: 0.0341 - acc: 0.9991 - val_loss: 0.0860 - val_acc: 0.9817\n",
      "\n",
      "Epoch 00007: saving model to /temp/7_VGG19.h5\n",
      "Epoch 8/20\n",
      "150/150 [==============================] - 79s 527ms/step - loss: 0.0260 - acc: 0.9991 - val_loss: 0.0789 - val_acc: 0.9850\n",
      "\n",
      "Epoch 00008: saving model to /temp/8_VGG19.h5\n",
      "Epoch 9/20\n",
      "150/150 [==============================] - 80s 535ms/step - loss: 0.0218 - acc: 0.9995 - val_loss: 0.0785 - val_acc: 0.9800\n",
      "\n",
      "Epoch 00009: saving model to /temp/9_VGG19.h5\n",
      "Epoch 10/20\n",
      "150/150 [==============================] - 79s 528ms/step - loss: 0.0163 - acc: 0.9998 - val_loss: 0.0681 - val_acc: 0.9833\n",
      "\n",
      "Epoch 00010: saving model to /temp/10_VGG19.h5\n",
      "Epoch 11/20\n",
      "150/150 [==============================] - 80s 534ms/step - loss: 0.0144 - acc: 0.9999 - val_loss: 0.0742 - val_acc: 0.9850\n",
      "\n",
      "Epoch 00011: saving model to /temp/11_VGG19.h5\n",
      "Epoch 12/20\n",
      "150/150 [==============================] - 79s 530ms/step - loss: 0.0120 - acc: 1.0000 - val_loss: 0.0647 - val_acc: 0.9833\n",
      "\n",
      "Epoch 00012: saving model to /temp/12_VGG19.h5\n",
      "Epoch 13/20\n",
      "150/150 [==============================] - 79s 525ms/step - loss: 0.0099 - acc: 1.0000 - val_loss: 0.0626 - val_acc: 0.9858\n",
      "\n",
      "Epoch 00013: saving model to /temp/13_VGG19.h5\n",
      "Epoch 14/20\n",
      "150/150 [==============================] - 79s 528ms/step - loss: 0.0086 - acc: 1.0000 - val_loss: 0.0645 - val_acc: 0.9825\n",
      "\n",
      "Epoch 00014: saving model to /temp/14_VGG19.h5\n",
      "Epoch 15/20\n",
      "150/150 [==============================] - 77s 516ms/step - loss: 0.0075 - acc: 1.0000 - val_loss: 0.0589 - val_acc: 0.9842\n",
      "\n",
      "Epoch 00015: saving model to /temp/15_VGG19.h5\n",
      "Epoch 16/20\n",
      "150/150 [==============================] - 79s 523ms/step - loss: 0.0066 - acc: 1.0000 - val_loss: 0.0589 - val_acc: 0.9817\n",
      "\n",
      "Epoch 00016: saving model to /temp/16_VGG19.h5\n",
      "Epoch 17/20\n",
      "150/150 [==============================] - 78s 519ms/step - loss: 0.0059 - acc: 1.0000 - val_loss: 0.0561 - val_acc: 0.9850\n",
      "\n",
      "Epoch 00017: saving model to /temp/17_VGG19.h5\n",
      "Epoch 18/20\n",
      "150/150 [==============================] - 79s 528ms/step - loss: 0.0053 - acc: 1.0000 - val_loss: 0.0562 - val_acc: 0.9867\n",
      "\n",
      "Epoch 00018: saving model to /temp/18_VGG19.h5\n",
      "Epoch 19/20\n",
      "150/150 [==============================] - 77s 515ms/step - loss: 0.0047 - acc: 1.0000 - val_loss: 0.0573 - val_acc: 0.9842\n",
      "\n",
      "Epoch 00019: saving model to /temp/19_VGG19.h5\n",
      "Epoch 20/20\n",
      "150/150 [==============================] - 79s 524ms/step - loss: 0.0042 - acc: 1.0000 - val_loss: 0.0526 - val_acc: 0.9842\n",
      "\n",
      "Epoch 00020: saving model to /temp/20_VGG19.h5\n"
     ]
    }
   ],
   "source": [
    "history = model.fit(\n",
    "                  training_set,\n",
    "                  validation_data=val_set,\n",
    "                  epochs=20,\n",
    "                  batch_size=128,\n",
    "                  callbacks=[annealer, checkpoint],\n",
    "                  steps_per_epoch=len(training_set),\n",
    "                  validation_steps=len(test_set)\n",
    "                )"
   ]
  },
  {
   "cell_type": "code",
   "execution_count": 14,
   "id": "44b2aa0e",
   "metadata": {
    "execution": {
     "iopub.execute_input": "2022-05-21T04:42:15.095165Z",
     "iopub.status.busy": "2022-05-21T04:42:15.094491Z",
     "iopub.status.idle": "2022-05-21T04:42:15.116289Z",
     "shell.execute_reply": "2022-05-21T04:42:15.106793Z"
    },
    "papermill": {
     "duration": 0.993883,
     "end_time": "2022-05-21T04:42:15.121393",
     "exception": false,
     "start_time": "2022-05-21T04:42:14.127510",
     "status": "completed"
    },
    "tags": []
   },
   "outputs": [
    {
     "name": "stdout",
     "output_type": "stream",
     "text": [
      "\n",
      "Train time: 27.192  mins\n"
     ]
    }
   ],
   "source": [
    "#time.ctime()\n",
    "train_time = time() - t_start\n",
    "print('\\nTrain time: %.3f'%(train_time/60), ' mins')"
   ]
  },
  {
   "cell_type": "code",
   "execution_count": 15,
   "id": "6c52e2fe",
   "metadata": {
    "execution": {
     "iopub.execute_input": "2022-05-21T04:42:17.043725Z",
     "iopub.status.busy": "2022-05-21T04:42:17.043142Z",
     "iopub.status.idle": "2022-05-21T04:42:17.195686Z",
     "shell.execute_reply": "2022-05-21T04:42:17.194649Z"
    },
    "papermill": {
     "duration": 1.124075,
     "end_time": "2022-05-21T04:42:17.197878",
     "exception": false,
     "start_time": "2022-05-21T04:42:16.073803",
     "status": "completed"
    },
    "tags": []
   },
   "outputs": [
    {
     "name": "stdout",
     "output_type": "stream",
     "text": [
      "Model Saved as : VGG19-Final.h5\n"
     ]
    }
   ],
   "source": [
    "model.save(\"VGG19-Final.h5\")\n",
    "print(\"Model Saved as : VGG19-Final.h5\")\n",
    "\n",
    "import json\n",
    "np.save('my_history.npy',history.history)\n",
    "import pandas as pd\n",
    "\n",
    "# convert the history.history dict to a pandas DataFrame:     \n",
    "hist_df = pd.DataFrame(history.history) \n",
    "\n",
    "# save to json:  \n",
    "hist_json_file = 'history.json' \n",
    "with open(hist_json_file, mode='w') as f:\n",
    "    hist_df.to_json(f)\n",
    "\n",
    "# or save to csv: \n",
    "hist_csv_file = 'history.csv'\n",
    "with open(hist_csv_file, mode='w') as f:\n",
    "    hist_df.to_csv(f)"
   ]
  },
  {
   "cell_type": "code",
   "execution_count": 16,
   "id": "ff56359f",
   "metadata": {
    "execution": {
     "iopub.execute_input": "2022-05-21T04:42:19.261812Z",
     "iopub.status.busy": "2022-05-21T04:42:19.261547Z",
     "iopub.status.idle": "2022-05-21T04:42:30.691127Z",
     "shell.execute_reply": "2022-05-21T04:42:30.690267Z"
    },
    "papermill": {
     "duration": 12.488134,
     "end_time": "2022-05-21T04:42:30.693268",
     "exception": false,
     "start_time": "2022-05-21T04:42:18.205134",
     "status": "completed"
    },
    "tags": []
   },
   "outputs": [
    {
     "name": "stdout",
     "output_type": "stream",
     "text": [
      "19/19 [==============================] - 11s 570ms/step - loss: 0.0534 - acc: 0.9867\n",
      "Test Accuracy = 98.67 %\n",
      "Test Loss =  5.34 %\n",
      "Test Time = 11.42 s\n"
     ]
    }
   ],
   "source": [
    "from time import time\n",
    "start = time()\n",
    "evl = model.evaluate(test_set)\n",
    "test_time = time() - start\n",
    "\n",
    "test_loss, test_acc = evl[0]*100, evl[1]*100\n",
    "\n",
    "msg = f'Test Accuracy = {test_acc:5.2f} %'\n",
    "msg1 = f'Test Loss = {test_loss:5.2f} %'\n",
    "msg2 = f'Test Time = {test_time:5.2f} s'\n",
    "print(msg)\n",
    "print(msg1)\n",
    "print(msg2)"
   ]
  },
  {
   "cell_type": "code",
   "execution_count": 17,
   "id": "150afb86",
   "metadata": {
    "execution": {
     "iopub.execute_input": "2022-05-21T04:42:32.982900Z",
     "iopub.status.busy": "2022-05-21T04:42:32.982324Z",
     "iopub.status.idle": "2022-05-21T04:42:33.849250Z",
     "shell.execute_reply": "2022-05-21T04:42:33.848541Z"
    },
    "papermill": {
     "duration": 1.846276,
     "end_time": "2022-05-21T04:42:33.851604",
     "exception": false,
     "start_time": "2022-05-21T04:42:32.005328",
     "status": "completed"
    },
    "tags": []
   },
   "outputs": [
    {
     "data": {
      "image/png": "[encoded data removed]",
      "text/plain": [
       "<Figure size 864x864 with 2 Axes>"
      ]
     },
     "metadata": {
      "needs_background": "light"
     },
     "output_type": "display_data"
    }
   ],
   "source": [
    "# Plotting Loss & Accuracy Graphs\n",
    "from sklearn.metrics import confusion_matrix\n",
    "plt.figure(figsize=(12, 12))\n",
    "plt.subplot(3, 2, 1)\n",
    "plt.plot(history.history['acc'], label = 'train_accuracy')\n",
    "plt.plot(history.history['val_acc'], label = 'val_accuracy')\n",
    "plt.xlabel('epoch')\n",
    "plt.ylabel('accuracy')\n",
    "plt.legend()\n",
    "plt.subplot(3, 2, 2)\n",
    "plt.plot(history.history['loss'], label = 'train_loss')\n",
    "plt.plot(history.history['val_loss'], label = 'val_loss')\n",
    "plt.xlabel('epoch')\n",
    "plt.ylabel('accuracy')\n",
    "plt.legend()\n",
    "plt.show()"
   ]
  },
  {
   "cell_type": "code",
   "execution_count": 18,
   "id": "2899cf0f",
   "metadata": {
    "collapsed": true,
    "execution": {
     "iopub.execute_input": "2022-05-21T04:42:35.808838Z",
     "iopub.status.busy": "2022-05-21T04:42:35.808582Z",
     "iopub.status.idle": "2022-05-21T04:42:35.820867Z",
     "shell.execute_reply": "2022-05-21T04:42:35.820094Z"
    },
    "jupyter": {
     "outputs_hidden": true
    },
    "papermill": {
     "duration": 1.001478,
     "end_time": "2022-05-21T04:42:35.822818",
     "exception": false,
     "start_time": "2022-05-21T04:42:34.821340",
     "status": "completed"
    },
    "tags": []
   },
   "outputs": [],
   "source": [
    "import numpy as np\n",
    "\n",
    "def plot_confusion_matrix(cm,\n",
    "                          target_names,\n",
    "                          title='Confusion matrix',\n",
    "                          cmap=None,\n",
    "                          normalize=True):\n",
    "    import matplotlib.pyplot as plt\n",
    "    import numpy as np\n",
    "    import itertools\n",
    "\n",
    "    accuracy = np.trace(cm) / float(np.sum(cm))\n",
    "    misclass = 1 - accuracy\n",
    "\n",
    "    if cmap is None:\n",
    "        cmap = plt.get_cmap('Blues')\n",
    "\n",
    "    plt.figure(figsize=(15, 15))\n",
    "    plt.imshow(cm, interpolation='nearest', cmap=cmap)\n",
    "    plt.title(title)\n",
    "    plt.colorbar()\n",
    "\n",
    "    if target_names is not None:\n",
    "        tick_marks = np.arange(len(target_names))\n",
    "        plt.xticks(tick_marks, target_names, rotation=45)\n",
    "        plt.yticks(tick_marks, target_names)\n",
    "\n",
    "    if normalize:\n",
    "        cm = cm.astype('float') / cm.sum(axis=1)[:, np.newaxis]\n",
    "\n",
    "\n",
    "    thresh = cm.max() / 1.5 if normalize else cm.max() / 2\n",
    "    for i, j in itertools.product(range(cm.shape[0]), range(cm.shape[1])):\n",
    "        if normalize:\n",
    "            plt.text(j, i, \"{:0.4f}\".format(cm[i, j]),\n",
    "                     horizontalalignment=\"center\",\n",
    "                     color=\"white\" if cm[i, j] > thresh else \"black\")\n",
    "        else:\n",
    "            plt.text(j, i, \"{:,}\".format(cm[i, j]),\n",
    "                     horizontalalignment=\"center\",\n",
    "                     color=\"white\" if cm[i, j] > thresh else \"black\")\n",
    "\n",
    "\n",
    "    plt.tight_layout()\n",
    "    plt.ylabel('True label')\n",
    "    plt.xlabel('Predicted label\\naccuracy={:0.4f}; misclass={:0.4f}'.format(accuracy, misclass))\n",
    "    plt.show()"
   ]
  },
  {
   "cell_type": "code",
   "execution_count": 19,
   "id": "eba1a797",
   "metadata": {
    "execution": {
     "iopub.execute_input": "2022-05-21T04:42:37.784068Z",
     "iopub.status.busy": "2022-05-21T04:42:37.783361Z",
     "iopub.status.idle": "2022-05-21T04:42:46.295126Z",
     "shell.execute_reply": "2022-05-21T04:42:46.294477Z"
    },
    "papermill": {
     "duration": 9.499014,
     "end_time": "2022-05-21T04:42:46.297483",
     "exception": false,
     "start_time": "2022-05-21T04:42:36.798469",
     "status": "completed"
    },
    "tags": []
   },
   "outputs": [
    {
     "name": "stdout",
     "output_type": "stream",
     "text": [
      "True :  [0 0 0 ... 9 9 9]\n",
      "Predicted :  [0 0 0 ... 9 9 9]\n"
     ]
    },
    {
     "data": {
      "image/png": "[encoded data removed]",
      "text/plain": [
       "<Figure size 1080x1080 with 2 Axes>"
      ]
     },
     "metadata": {
      "needs_background": "light"
     },
     "output_type": "display_data"
    }
   ],
   "source": [
    "from sklearn.metrics import confusion_matrix\n",
    "\n",
    "classes = ['Alopecia Areata', 'Contact Dermatitis', 'Folliculitis', 'Head Lice', 'Lichen Planus', 'Male Pattern Baldness', 'Psoriasis', 'Seborrheic Dermatitis', 'Telogen Effluvium', 'Tinea Capitis']\n",
    "\n",
    "y_true = np.array(test_set.labels)\n",
    "print(\"True : \", y_true)\n",
    "\n",
    "y_pred = model.predict(test_set)\n",
    "y_pred = np.argmax(y_pred, axis=1)\n",
    "print(\"Predicted : \", y_pred)\n",
    "\n",
    "conf_mat = confusion_matrix(y_true, y_pred)\n",
    "\n",
    "plot_confusion_matrix(cm           = conf_mat,\n",
    "                      normalize    = False,\n",
    "                      target_names = classes,\n",
    "                      title        = \"VGG19 Confusion Matrix\")"
   ]
  },
  {
   "cell_type": "code",
   "execution_count": null,
   "id": "06efc118",
   "metadata": {
    "papermill": {
     "duration": 0.980642,
     "end_time": "2022-05-21T04:42:48.245875",
     "exception": false,
     "start_time": "2022-05-21T04:42:47.265233",
     "status": "completed"
    },
    "tags": []
   },
   "outputs": [],
   "source": []
  }
 ],
 "metadata": {
  "kernelspec": {
   "display_name": "Python 3 (ipykernel)",
   "language": "python",
   "name": "python3"
  },
  "language_info": {
   "codemirror_mode": {
    "name": "ipython",
    "version": 3
   },
   "file_extension": ".py",
   "mimetype": "text/x-python",
   "name": "python",
   "nbconvert_exporter": "python",
   "pygments_lexer": "ipython3",
   "version": "3.11.3"
  },
  "papermill": {
   "default_parameters": {},
   "duration": 1693.768573,
   "end_time": "2022-05-21T04:42:52.721017",
   "environment_variables": {},
   "exception": null,
   "input_path": "__notebook__.ipynb",
   "output_path": "__notebook__.ipynb",
   "parameters": {},
   "start_time": "2022-05-21T04:14:38.952444",
   "version": "2.3.4"
  }
 },
 "nbformat": 4,
 "nbformat_minor": 5
}
